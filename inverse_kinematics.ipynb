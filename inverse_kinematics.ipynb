{
 "cells": [
  {
   "cell_type": "markdown",
   "metadata": {},
   "source": [
    "### Import necessary library"
   ]
  },
  {
   "cell_type": "code",
   "execution_count": 2,
   "metadata": {},
   "outputs": [],
   "source": [
    "\n",
    "import numpy as np\n",
    "from math import * \n",
    "import matplotlib.pyplot as plt"
   ]
  },
  {
   "cell_type": "code",
   "execution_count": 3,
   "metadata": {},
   "outputs": [],
   "source": [
    "\"\"\"\n",
    "Utiles functions for working with 2D coordinates\n",
    "\"\"\"\n",
    "#Converts 2D cartesian coordinates to polar coordinates\n",
    "def cartToPolar(x, y):\n",
    "\n",
    "    #Get the radius and angle of the point\n",
    "    r = np.sqrt(x**2 + y**2)\n",
    "    theta = np.arctan2(y, x)\n",
    "\n",
    "    #Using arctan2 gives us an angle between -pi (clockwise) and pi (counter-clockwise), so we need to convert it to 0 to 2pi\n",
    "    if theta < 0:\n",
    "        theta += 2*pi\n",
    "    \n",
    "    return r, theta\n",
    "\n",
    "#Converts 2D polar coordinates to cartesian coordinates\n",
    "def polarToCart(r, theta):\n",
    "\n",
    "    #Get the x and y coordinates of the point\n",
    "    x = r * np.cos(theta)\n",
    "    y = r * np.sin(theta)\n",
    "    return x, y\n"
   ]
  },
  {
   "cell_type": "code",
   "execution_count": null,
   "metadata": {},
   "outputs": [],
   "source": []
  }
 ],
 "metadata": {
  "kernelspec": {
   "display_name": "myenv_mac",
   "language": "python",
   "name": "python3"
  },
  "language_info": {
   "codemirror_mode": {
    "name": "ipython",
    "version": 3
   },
   "file_extension": ".py",
   "mimetype": "text/x-python",
   "name": "python",
   "nbconvert_exporter": "python",
   "pygments_lexer": "ipython3",
   "version": "3.10.9"
  }
 },
 "nbformat": 4,
 "nbformat_minor": 2
}
